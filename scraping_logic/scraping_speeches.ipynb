{
 "cells": [
  {
   "cell_type": "code",
   "execution_count": 1,
   "metadata": {},
   "outputs": [],
   "source": [
    "from bs4 import BeautifulSoup\n",
    "import urllib.request\n",
    "import pandas as pd"
   ]
  },
  {
   "cell_type": "code",
   "execution_count": 2,
   "metadata": {},
   "outputs": [],
   "source": [
    "working_url = 'https://www.president.gov.ua/news/speeches'"
   ]
  },
  {
   "cell_type": "code",
   "execution_count": 3,
   "metadata": {},
   "outputs": [],
   "source": [
    "def get_speech_text_from_preview(preview):\n",
    "    url = preview.find('a')['href']\n",
    "    speech_page = BeautifulSoup(urllib.request.urlopen(url), 'html.parser')\n",
    "    return speech_page.find('div', attrs={'itemprop':'articleBody'}).text.strip()"
   ]
  },
  {
   "cell_type": "code",
   "execution_count": 4,
   "metadata": {},
   "outputs": [],
   "source": [
    "column_lambda_dictionary = {\n",
    "    'headline': lambda preview: preview.find('h3').text,\n",
    "    'url': lambda preview: preview.find('a')['href'],\n",
    "    'date': lambda preview: preview.find('p', attrs={'class':'date'}).text.strip(),\n",
    "    'speech_text': get_speech_text_from_preview\n",
    "}"
   ]
  },
  {
   "cell_type": "code",
   "execution_count": 5,
   "metadata": {},
   "outputs": [],
   "source": [
    "final_dict = { key: [] for key in column_lambda_dictionary.keys()}"
   ]
  },
  {
   "cell_type": "code",
   "execution_count": 6,
   "metadata": {},
   "outputs": [
    {
     "data": {
      "text/plain": [
       "{'headline': [], 'url': [], 'date': [], 'speech_text': []}"
      ]
     },
     "execution_count": 6,
     "metadata": {},
     "output_type": "execute_result"
    }
   ],
   "source": [
    "final_dict"
   ]
  },
  {
   "cell_type": "code",
   "execution_count": 7,
   "metadata": {},
   "outputs": [],
   "source": [
    "is_last_page = False\n",
    "disabled_class_name = 'disabled'\n",
    "\n",
    "while not is_last_page:\n",
    "    page = urllib.request.urlopen(working_url)\n",
    "    \n",
    "    page_soup = BeautifulSoup(page, 'html.parser')\n",
    "    \n",
    "    content = page_soup.find('div', attrs={'class': 'cat_list'})\n",
    "    speech_previews = content.findAll('div', attrs={'class':'item_stat cat_stat'}) \n",
    "    \n",
    "    for preview in speech_previews:\n",
    "        for section in column_lambda_dictionary.keys():\n",
    "            final_dict[section].append(column_lambda_dictionary[section](preview))\n",
    "    \n",
    "    next_page_object = page_soup.find('div', attrs={'class':'pagination'}).findAll('i')[-1].parent\n",
    "    working_url = next_page_object['href']\n",
    "    \n",
    "    is_last_page = disabled_class_name in next_page_object.get(\"class\")"
   ]
  },
  {
   "cell_type": "code",
   "execution_count": 8,
   "metadata": {},
   "outputs": [],
   "source": [
    "data = pd.DataFrame.from_dict(final_dict)"
   ]
  },
  {
   "cell_type": "code",
   "execution_count": 9,
   "metadata": {},
   "outputs": [
    {
     "data": {
      "text/html": [
       "<div>\n",
       "<style scoped>\n",
       "    .dataframe tbody tr th:only-of-type {\n",
       "        vertical-align: middle;\n",
       "    }\n",
       "\n",
       "    .dataframe tbody tr th {\n",
       "        vertical-align: top;\n",
       "    }\n",
       "\n",
       "    .dataframe thead th {\n",
       "        text-align: right;\n",
       "    }\n",
       "</style>\n",
       "<table border=\"1\" class=\"dataframe\">\n",
       "  <thead>\n",
       "    <tr style=\"text-align: right;\">\n",
       "      <th></th>\n",
       "      <th>headline</th>\n",
       "      <th>url</th>\n",
       "      <th>date</th>\n",
       "      <th>speech_text</th>\n",
       "    </tr>\n",
       "  </thead>\n",
       "  <tbody>\n",
       "    <tr>\n",
       "      <th>0</th>\n",
       "      <td>\\nЗвернення Президента з нагоди Дня українсько...</td>\n",
       "      <td>https://www.president.gov.ua/news/zvernennya-p...</td>\n",
       "      <td>14 березня 2019 року - 10:01</td>\n",
       "      <td>Шановні воїни!\\nДорогі добровольці!\\nЯк Презид...</td>\n",
       "    </tr>\n",
       "    <tr>\n",
       "      <th>1</th>\n",
       "      <td>\\nВиступ Президента України на дебатах Генерал...</td>\n",
       "      <td>https://www.president.gov.ua/news/vistup-prezi...</td>\n",
       "      <td>20 лютого 2019 року - 18:18</td>\n",
       "      <td>Пані Голово,\\nВаші Високоповажності,\\nПані і П...</td>\n",
       "    </tr>\n",
       "    <tr>\n",
       "      <th>2</th>\n",
       "      <td>\\nВиступ Президента під час спеціального засід...</td>\n",
       "      <td>https://www.president.gov.ua/news/vistup-prezi...</td>\n",
       "      <td>19 лютого 2019 року - 14:04</td>\n",
       "      <td>Великий друг України пане Дональд Туск!\\nШанов...</td>\n",
       "    </tr>\n",
       "    <tr>\n",
       "      <th>3</th>\n",
       "      <td>\\nВиступ Президента у Парламенті щодо закріпле...</td>\n",
       "      <td>https://www.president.gov.ua/news/vistup-prezi...</td>\n",
       "      <td>7 лютого 2019 року - 12:09</td>\n",
       "      <td>Високодостойний пане голово Верховної ради Укр...</td>\n",
       "    </tr>\n",
       "    <tr>\n",
       "      <th>4</th>\n",
       "      <td>\\nВиступ Президента на інтронізації Предстояте...</td>\n",
       "      <td>https://www.president.gov.ua/news/vistup-prezi...</td>\n",
       "      <td>3 лютого 2019 року - 12:15</td>\n",
       "      <td>Ваше Блаженство!\\nВисокопреосвященні Владики і...</td>\n",
       "    </tr>\n",
       "  </tbody>\n",
       "</table>\n",
       "</div>"
      ],
      "text/plain": [
       "                                            headline  \\\n",
       "0  \\nЗвернення Президента з нагоди Дня українсько...   \n",
       "1  \\nВиступ Президента України на дебатах Генерал...   \n",
       "2  \\nВиступ Президента під час спеціального засід...   \n",
       "3  \\nВиступ Президента у Парламенті щодо закріпле...   \n",
       "4  \\nВиступ Президента на інтронізації Предстояте...   \n",
       "\n",
       "                                                 url  \\\n",
       "0  https://www.president.gov.ua/news/zvernennya-p...   \n",
       "1  https://www.president.gov.ua/news/vistup-prezi...   \n",
       "2  https://www.president.gov.ua/news/vistup-prezi...   \n",
       "3  https://www.president.gov.ua/news/vistup-prezi...   \n",
       "4  https://www.president.gov.ua/news/vistup-prezi...   \n",
       "\n",
       "                           date  \\\n",
       "0  14 березня 2019 року - 10:01   \n",
       "1   20 лютого 2019 року - 18:18   \n",
       "2   19 лютого 2019 року - 14:04   \n",
       "3    7 лютого 2019 року - 12:09   \n",
       "4    3 лютого 2019 року - 12:15   \n",
       "\n",
       "                                         speech_text  \n",
       "0  Шановні воїни!\\nДорогі добровольці!\\nЯк Презид...  \n",
       "1  Пані Голово,\\nВаші Високоповажності,\\nПані і П...  \n",
       "2  Великий друг України пане Дональд Туск!\\nШанов...  \n",
       "3  Високодостойний пане голово Верховної ради Укр...  \n",
       "4  Ваше Блаженство!\\nВисокопреосвященні Владики і...  "
      ]
     },
     "execution_count": 9,
     "metadata": {},
     "output_type": "execute_result"
    }
   ],
   "source": [
    "data.head()"
   ]
  },
  {
   "cell_type": "code",
   "execution_count": 10,
   "metadata": {},
   "outputs": [],
   "source": [
    "FILENAME = 'speeches.csv'\n",
    "FOLDER_PATH = '../data/'"
   ]
  },
  {
   "cell_type": "code",
   "execution_count": 11,
   "metadata": {},
   "outputs": [],
   "source": [
    "data.to_csv(f'{FOLDER_PATH}{FILENAME}', encoding='utf-8')"
   ]
  }
 ],
 "metadata": {
  "kernelspec": {
   "display_name": "Python 3",
   "language": "python",
   "name": "python3"
  },
  "language_info": {
   "codemirror_mode": {
    "name": "ipython",
    "version": 3
   },
   "file_extension": ".py",
   "mimetype": "text/x-python",
   "name": "python",
   "nbconvert_exporter": "python",
   "pygments_lexer": "ipython3",
   "version": "3.6.5"
  }
 },
 "nbformat": 4,
 "nbformat_minor": 2
}
