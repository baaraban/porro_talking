{
 "cells": [
  {
   "cell_type": "code",
   "execution_count": 1,
   "metadata": {},
   "outputs": [],
   "source": [
    "from bs4 import BeautifulSoup\n",
    "import urllib.request\n",
    "import pandas as pd"
   ]
  },
  {
   "cell_type": "code",
   "execution_count": 2,
   "metadata": {},
   "outputs": [],
   "source": [
    "#different urls for different versions\n",
    "#working_url = 'https://www.president.gov.ua/news/speeches'\n",
    "working_url = 'https://www.president.gov.ua/en/news/speeches'"
   ]
  },
  {
   "cell_type": "code",
   "execution_count": 3,
   "metadata": {},
   "outputs": [],
   "source": [
    "def get_speech_text_from_preview(preview):\n",
    "    url = preview.find('a')['href']\n",
    "    speech_page = BeautifulSoup(urllib.request.urlopen(url), 'html.parser')\n",
    "    return speech_page.find('div', attrs={'itemprop':'articleBody'}).text.strip()"
   ]
  },
  {
   "cell_type": "code",
   "execution_count": 4,
   "metadata": {},
   "outputs": [],
   "source": [
    "column_lambda_dictionary = {\n",
    "    'headline': lambda preview: preview.find('h3').text,\n",
    "    'url': lambda preview: preview.find('a')['href'],\n",
    "    'date': lambda preview: preview.find('p', attrs={'class':'date'}).text.strip(),\n",
    "    'speech_text': get_speech_text_from_preview\n",
    "}"
   ]
  },
  {
   "cell_type": "code",
   "execution_count": 5,
   "metadata": {},
   "outputs": [],
   "source": [
    "final_dict = { key: [] for key in column_lambda_dictionary.keys()}"
   ]
  },
  {
   "cell_type": "code",
   "execution_count": 6,
   "metadata": {},
   "outputs": [
    {
     "data": {
      "text/plain": [
       "{'headline': [], 'url': [], 'date': [], 'speech_text': []}"
      ]
     },
     "execution_count": 6,
     "metadata": {},
     "output_type": "execute_result"
    }
   ],
   "source": [
    "final_dict"
   ]
  },
  {
   "cell_type": "code",
   "execution_count": 7,
   "metadata": {},
   "outputs": [],
   "source": [
    "is_last_page = False\n",
    "disabled_class_name = 'disabled'\n",
    "\n",
    "while not is_last_page:\n",
    "    page = urllib.request.urlopen(working_url)\n",
    "    \n",
    "    page_soup = BeautifulSoup(page, 'html.parser')\n",
    "    \n",
    "    content = page_soup.find('div', attrs={'class': 'cat_list'})\n",
    "    speech_previews = content.findAll('div', attrs={'class':'item_stat cat_stat'}) \n",
    "    \n",
    "    for preview in speech_previews:\n",
    "        for section in column_lambda_dictionary.keys():\n",
    "            final_dict[section].append(column_lambda_dictionary[section](preview))\n",
    "    \n",
    "    next_page_object = page_soup.find('div', attrs={'class':'pagination'}).findAll('i')[-1].parent\n",
    "    working_url = next_page_object['href']\n",
    "    \n",
    "    is_last_page = disabled_class_name in next_page_object.get(\"class\")"
   ]
  },
  {
   "cell_type": "code",
   "execution_count": 8,
   "metadata": {},
   "outputs": [],
   "source": [
    "data = pd.DataFrame.from_dict(final_dict)"
   ]
  },
  {
   "cell_type": "code",
   "execution_count": 9,
   "metadata": {},
   "outputs": [
    {
     "data": {
      "text/html": [
       "<div>\n",
       "<style scoped>\n",
       "    .dataframe tbody tr th:only-of-type {\n",
       "        vertical-align: middle;\n",
       "    }\n",
       "\n",
       "    .dataframe tbody tr th {\n",
       "        vertical-align: top;\n",
       "    }\n",
       "\n",
       "    .dataframe thead th {\n",
       "        text-align: right;\n",
       "    }\n",
       "</style>\n",
       "<table border=\"1\" class=\"dataframe\">\n",
       "  <thead>\n",
       "    <tr style=\"text-align: right;\">\n",
       "      <th></th>\n",
       "      <th>headline</th>\n",
       "      <th>url</th>\n",
       "      <th>date</th>\n",
       "      <th>speech_text</th>\n",
       "    </tr>\n",
       "  </thead>\n",
       "  <tbody>\n",
       "    <tr>\n",
       "      <th>0</th>\n",
       "      <td>\\nStatement by President of Ukraine  at the Un...</td>\n",
       "      <td>https://www.president.gov.ua/en/news/vistup-pr...</td>\n",
       "      <td>20 February 2019  - 18:18</td>\n",
       "      <td>Madam President,\\nExcellencies,\\nLadies and Ge...</td>\n",
       "    </tr>\n",
       "    <tr>\n",
       "      <th>1</th>\n",
       "      <td>\\nPresident’s speech at a special session of t...</td>\n",
       "      <td>https://www.president.gov.ua/en/news/vistup-pr...</td>\n",
       "      <td>19 February 2019  - 14:04</td>\n",
       "      <td>Dear great friend of Ukraine, Mr. Donald Tusk!...</td>\n",
       "    </tr>\n",
       "    <tr>\n",
       "      <th>2</th>\n",
       "      <td>\\nPresident's speech in the Verkhovna Rada on ...</td>\n",
       "      <td>https://www.president.gov.ua/en/news/vistup-pr...</td>\n",
       "      <td>7 February 2019  - 12:09</td>\n",
       "      <td>Honorable Chairman of the Verkhovna Rada of Uk...</td>\n",
       "    </tr>\n",
       "    <tr>\n",
       "      <th>3</th>\n",
       "      <td>\\nAddress  of President of Ukraine  at the Tra...</td>\n",
       "      <td>https://www.president.gov.ua/en/news/vistup-pr...</td>\n",
       "      <td>16 January 2019  - 21:35</td>\n",
       "      <td>Your Excellences,\\nDear Mr. Speaker, Mr. Prime...</td>\n",
       "    </tr>\n",
       "    <tr>\n",
       "      <th>4</th>\n",
       "      <td>\\nPresident’s address on the occasion of grant...</td>\n",
       "      <td>https://www.president.gov.ua/en/news/promova-p...</td>\n",
       "      <td>6 January 2019  - 11:11</td>\n",
       "      <td>A great historic event, in which the Lord was ...</td>\n",
       "    </tr>\n",
       "  </tbody>\n",
       "</table>\n",
       "</div>"
      ],
      "text/plain": [
       "                                            headline  \\\n",
       "0  \\nStatement by President of Ukraine  at the Un...   \n",
       "1  \\nPresident’s speech at a special session of t...   \n",
       "2  \\nPresident's speech in the Verkhovna Rada on ...   \n",
       "3  \\nAddress  of President of Ukraine  at the Tra...   \n",
       "4  \\nPresident’s address on the occasion of grant...   \n",
       "\n",
       "                                                 url  \\\n",
       "0  https://www.president.gov.ua/en/news/vistup-pr...   \n",
       "1  https://www.president.gov.ua/en/news/vistup-pr...   \n",
       "2  https://www.president.gov.ua/en/news/vistup-pr...   \n",
       "3  https://www.president.gov.ua/en/news/vistup-pr...   \n",
       "4  https://www.president.gov.ua/en/news/promova-p...   \n",
       "\n",
       "                        date  \\\n",
       "0  20 February 2019  - 18:18   \n",
       "1  19 February 2019  - 14:04   \n",
       "2   7 February 2019  - 12:09   \n",
       "3   16 January 2019  - 21:35   \n",
       "4    6 January 2019  - 11:11   \n",
       "\n",
       "                                         speech_text  \n",
       "0  Madam President,\\nExcellencies,\\nLadies and Ge...  \n",
       "1  Dear great friend of Ukraine, Mr. Donald Tusk!...  \n",
       "2  Honorable Chairman of the Verkhovna Rada of Uk...  \n",
       "3  Your Excellences,\\nDear Mr. Speaker, Mr. Prime...  \n",
       "4  A great historic event, in which the Lord was ...  "
      ]
     },
     "execution_count": 9,
     "metadata": {},
     "output_type": "execute_result"
    }
   ],
   "source": [
    "data.head()"
   ]
  },
  {
   "cell_type": "code",
   "execution_count": 10,
   "metadata": {},
   "outputs": [],
   "source": [
    "FILENAME = 'speeches_en.csv'\n",
    "FOLDER_PATH = '../data/'"
   ]
  },
  {
   "cell_type": "code",
   "execution_count": 11,
   "metadata": {},
   "outputs": [],
   "source": [
    "data.to_csv(f'{FOLDER_PATH}{FILENAME}', encoding='utf-8')"
   ]
  },
  {
   "cell_type": "code",
   "execution_count": null,
   "metadata": {},
   "outputs": [],
   "source": []
  }
 ],
 "metadata": {
  "kernelspec": {
   "display_name": "Python 3",
   "language": "python",
   "name": "python3"
  },
  "language_info": {
   "codemirror_mode": {
    "name": "ipython",
    "version": 3
   },
   "file_extension": ".py",
   "mimetype": "text/x-python",
   "name": "python",
   "nbconvert_exporter": "python",
   "pygments_lexer": "ipython3",
   "version": "3.6.5"
  }
 },
 "nbformat": 4,
 "nbformat_minor": 2
}
